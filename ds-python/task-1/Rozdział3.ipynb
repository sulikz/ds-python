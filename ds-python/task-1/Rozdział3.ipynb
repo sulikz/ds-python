{
 "cells": [
  {
   "cell_type": "markdown",
   "id": "aec87ef2-a1fc-453b-92fd-855ef38b9568",
   "metadata": {},
   "source": [
    "# Zadania rozdział 3\n",
    "## Łukasz Suliborski"
   ]
  },
  {
   "cell_type": "markdown",
   "id": "015df422-66d9-4ac7-9887-a28187aeba17",
   "metadata": {},
   "source": [
    "### 1. Zgadnij liczbę"
   ]
  },
  {
   "cell_type": "code",
   "id": "4fbf6e87-03ae-43a9-b82c-2a4e31599afc",
   "metadata": {
    "scrolled": true,
    "ExecuteTime": {
     "end_time": "2024-10-06T07:57:05.320337Z",
     "start_time": "2024-10-06T07:57:01.491738Z"
    }
   },
   "source": [
    "import math\n",
    "import random\n",
    "n_max = 10\n",
    "number = random.randint(1, n_max)\n",
    "\n",
    "while True:\n",
    "    try:\n",
    "        user_guess = int(input(f\"Guess the number between 1 and {n_max}:\"))\n",
    "    except ValueError:\n",
    "        print(\"Please enter a number\")\n",
    "        continue\n",
    "    if user_guess == number:\n",
    "        print(\"Correct!\")\n",
    "        exit(0)\n",
    "    elif user_guess > number:\n",
    "        print(\"Too high!\")\n",
    "    else:\n",
    "        print(\"Too low!\")"
   ],
   "outputs": [
    {
     "name": "stdout",
     "output_type": "stream",
     "text": [
      "Please enter a number\n",
      "Please enter a number\n"
     ]
    },
    {
     "ename": "KeyboardInterrupt",
     "evalue": "Interrupted by user",
     "output_type": "error",
     "traceback": [
      "\u001B[0;31m---------------------------------------------------------------------------\u001B[0m",
      "\u001B[0;31mKeyboardInterrupt\u001B[0m                         Traceback (most recent call last)",
      "Cell \u001B[0;32mIn[8], line 7\u001B[0m\n\u001B[1;32m      5\u001B[0m \u001B[38;5;28;01mwhile\u001B[39;00m \u001B[38;5;28;01mTrue\u001B[39;00m:\n\u001B[1;32m      6\u001B[0m     \u001B[38;5;28;01mtry\u001B[39;00m:\n\u001B[0;32m----> 7\u001B[0m         user_guess \u001B[38;5;241m=\u001B[39m \u001B[38;5;28mint\u001B[39m(\u001B[38;5;28;43minput\u001B[39;49m\u001B[43m(\u001B[49m\u001B[38;5;124;43mf\u001B[39;49m\u001B[38;5;124;43m\"\u001B[39;49m\u001B[38;5;124;43mGuess the number between 1 and \u001B[39;49m\u001B[38;5;132;43;01m{\u001B[39;49;00m\u001B[43mn_max\u001B[49m\u001B[38;5;132;43;01m}\u001B[39;49;00m\u001B[38;5;124;43m:\u001B[39;49m\u001B[38;5;124;43m\"\u001B[39;49m\u001B[43m)\u001B[49m)\n\u001B[1;32m      8\u001B[0m     \u001B[38;5;28;01mexcept\u001B[39;00m \u001B[38;5;167;01mValueError\u001B[39;00m:\n\u001B[1;32m      9\u001B[0m         \u001B[38;5;28mprint\u001B[39m(\u001B[38;5;124m\"\u001B[39m\u001B[38;5;124mPlease enter a number\u001B[39m\u001B[38;5;124m\"\u001B[39m)\n",
      "File \u001B[0;32m~/.cache/pypoetry/virtualenvs/ds-python-nZ1pRs7--py3.12/lib/python3.12/site-packages/ipykernel/kernelbase.py:1282\u001B[0m, in \u001B[0;36mKernel.raw_input\u001B[0;34m(self, prompt)\u001B[0m\n\u001B[1;32m   1280\u001B[0m     msg \u001B[38;5;241m=\u001B[39m \u001B[38;5;124m\"\u001B[39m\u001B[38;5;124mraw_input was called, but this frontend does not support input requests.\u001B[39m\u001B[38;5;124m\"\u001B[39m\n\u001B[1;32m   1281\u001B[0m     \u001B[38;5;28;01mraise\u001B[39;00m StdinNotImplementedError(msg)\n\u001B[0;32m-> 1282\u001B[0m \u001B[38;5;28;01mreturn\u001B[39;00m \u001B[38;5;28;43mself\u001B[39;49m\u001B[38;5;241;43m.\u001B[39;49m\u001B[43m_input_request\u001B[49m\u001B[43m(\u001B[49m\n\u001B[1;32m   1283\u001B[0m \u001B[43m    \u001B[49m\u001B[38;5;28;43mstr\u001B[39;49m\u001B[43m(\u001B[49m\u001B[43mprompt\u001B[49m\u001B[43m)\u001B[49m\u001B[43m,\u001B[49m\n\u001B[1;32m   1284\u001B[0m \u001B[43m    \u001B[49m\u001B[38;5;28;43mself\u001B[39;49m\u001B[38;5;241;43m.\u001B[39;49m\u001B[43m_parent_ident\u001B[49m\u001B[43m[\u001B[49m\u001B[38;5;124;43m\"\u001B[39;49m\u001B[38;5;124;43mshell\u001B[39;49m\u001B[38;5;124;43m\"\u001B[39;49m\u001B[43m]\u001B[49m\u001B[43m,\u001B[49m\n\u001B[1;32m   1285\u001B[0m \u001B[43m    \u001B[49m\u001B[38;5;28;43mself\u001B[39;49m\u001B[38;5;241;43m.\u001B[39;49m\u001B[43mget_parent\u001B[49m\u001B[43m(\u001B[49m\u001B[38;5;124;43m\"\u001B[39;49m\u001B[38;5;124;43mshell\u001B[39;49m\u001B[38;5;124;43m\"\u001B[39;49m\u001B[43m)\u001B[49m\u001B[43m,\u001B[49m\n\u001B[1;32m   1286\u001B[0m \u001B[43m    \u001B[49m\u001B[43mpassword\u001B[49m\u001B[38;5;241;43m=\u001B[39;49m\u001B[38;5;28;43;01mFalse\u001B[39;49;00m\u001B[43m,\u001B[49m\n\u001B[1;32m   1287\u001B[0m \u001B[43m\u001B[49m\u001B[43m)\u001B[49m\n",
      "File \u001B[0;32m~/.cache/pypoetry/virtualenvs/ds-python-nZ1pRs7--py3.12/lib/python3.12/site-packages/ipykernel/kernelbase.py:1325\u001B[0m, in \u001B[0;36mKernel._input_request\u001B[0;34m(self, prompt, ident, parent, password)\u001B[0m\n\u001B[1;32m   1322\u001B[0m \u001B[38;5;28;01mexcept\u001B[39;00m \u001B[38;5;167;01mKeyboardInterrupt\u001B[39;00m:\n\u001B[1;32m   1323\u001B[0m     \u001B[38;5;66;03m# re-raise KeyboardInterrupt, to truncate traceback\u001B[39;00m\n\u001B[1;32m   1324\u001B[0m     msg \u001B[38;5;241m=\u001B[39m \u001B[38;5;124m\"\u001B[39m\u001B[38;5;124mInterrupted by user\u001B[39m\u001B[38;5;124m\"\u001B[39m\n\u001B[0;32m-> 1325\u001B[0m     \u001B[38;5;28;01mraise\u001B[39;00m \u001B[38;5;167;01mKeyboardInterrupt\u001B[39;00m(msg) \u001B[38;5;28;01mfrom\u001B[39;00m \u001B[38;5;28;01mNone\u001B[39;00m\n\u001B[1;32m   1326\u001B[0m \u001B[38;5;28;01mexcept\u001B[39;00m \u001B[38;5;167;01mException\u001B[39;00m:\n\u001B[1;32m   1327\u001B[0m     \u001B[38;5;28mself\u001B[39m\u001B[38;5;241m.\u001B[39mlog\u001B[38;5;241m.\u001B[39mwarning(\u001B[38;5;124m\"\u001B[39m\u001B[38;5;124mInvalid Message:\u001B[39m\u001B[38;5;124m\"\u001B[39m, exc_info\u001B[38;5;241m=\u001B[39m\u001B[38;5;28;01mTrue\u001B[39;00m)\n",
      "\u001B[0;31mKeyboardInterrupt\u001B[0m: Interrupted by user"
     ]
    }
   ],
   "execution_count": 8
  },
  {
   "cell_type": "markdown",
   "id": "aa15e51b-7947-4d48-8aeb-16b090b9c402",
   "metadata": {},
   "source": [
    "### 2. Dochody / wydatki"
   ]
  },
  {
   "cell_type": "code",
   "execution_count": 4,
   "id": "503d8ac9-453e-4e99-86af-11c132a78dc9",
   "metadata": {},
   "outputs": [
    {
     "ename": "KeyboardInterrupt",
     "evalue": "Interrupted by user",
     "output_type": "error",
     "traceback": [
      "\u001B[0;31m---------------------------------------------------------------------------\u001B[0m",
      "\u001B[0;31mKeyboardInterrupt\u001B[0m                         Traceback (most recent call last)",
      "Cell \u001B[0;32mIn[4], line 9\u001B[0m\n\u001B[1;32m      7\u001B[0m \u001B[38;5;28;01mfor\u001B[39;00m month \u001B[38;5;129;01min\u001B[39;00m months:\n\u001B[1;32m      8\u001B[0m     \u001B[38;5;28;01mtry\u001B[39;00m:\n\u001B[0;32m----> 9\u001B[0m         income \u001B[38;5;241m=\u001B[39m \u001B[38;5;28;43minput\u001B[39;49m\u001B[43m(\u001B[49m\u001B[38;5;124;43mf\u001B[39;49m\u001B[38;5;124;43m\"\u001B[39;49m\u001B[38;5;124;43mInput income in \u001B[39;49m\u001B[38;5;132;43;01m{\u001B[39;49;00m\u001B[43mmonth\u001B[49m\u001B[38;5;132;43;01m}\u001B[39;49;00m\u001B[38;5;124;43m:\u001B[39;49m\u001B[38;5;124;43m\"\u001B[39;49m\u001B[43m)\u001B[49m\n\u001B[1;32m     10\u001B[0m         \u001B[38;5;28mint\u001B[39m(income)\n\u001B[1;32m     11\u001B[0m     \u001B[38;5;28;01mexcept\u001B[39;00m \u001B[38;5;167;01mValueError\u001B[39;00m:\n",
      "File \u001B[0;32m~/.cache/pypoetry/virtualenvs/ds-python-nZ1pRs7--py3.12/lib/python3.12/site-packages/ipykernel/kernelbase.py:1282\u001B[0m, in \u001B[0;36mKernel.raw_input\u001B[0;34m(self, prompt)\u001B[0m\n\u001B[1;32m   1280\u001B[0m     msg \u001B[38;5;241m=\u001B[39m \u001B[38;5;124m\"\u001B[39m\u001B[38;5;124mraw_input was called, but this frontend does not support input requests.\u001B[39m\u001B[38;5;124m\"\u001B[39m\n\u001B[1;32m   1281\u001B[0m     \u001B[38;5;28;01mraise\u001B[39;00m StdinNotImplementedError(msg)\n\u001B[0;32m-> 1282\u001B[0m \u001B[38;5;28;01mreturn\u001B[39;00m \u001B[38;5;28;43mself\u001B[39;49m\u001B[38;5;241;43m.\u001B[39;49m\u001B[43m_input_request\u001B[49m\u001B[43m(\u001B[49m\n\u001B[1;32m   1283\u001B[0m \u001B[43m    \u001B[49m\u001B[38;5;28;43mstr\u001B[39;49m\u001B[43m(\u001B[49m\u001B[43mprompt\u001B[49m\u001B[43m)\u001B[49m\u001B[43m,\u001B[49m\n\u001B[1;32m   1284\u001B[0m \u001B[43m    \u001B[49m\u001B[38;5;28;43mself\u001B[39;49m\u001B[38;5;241;43m.\u001B[39;49m\u001B[43m_parent_ident\u001B[49m\u001B[43m[\u001B[49m\u001B[38;5;124;43m\"\u001B[39;49m\u001B[38;5;124;43mshell\u001B[39;49m\u001B[38;5;124;43m\"\u001B[39;49m\u001B[43m]\u001B[49m\u001B[43m,\u001B[49m\n\u001B[1;32m   1285\u001B[0m \u001B[43m    \u001B[49m\u001B[38;5;28;43mself\u001B[39;49m\u001B[38;5;241;43m.\u001B[39;49m\u001B[43mget_parent\u001B[49m\u001B[43m(\u001B[49m\u001B[38;5;124;43m\"\u001B[39;49m\u001B[38;5;124;43mshell\u001B[39;49m\u001B[38;5;124;43m\"\u001B[39;49m\u001B[43m)\u001B[49m\u001B[43m,\u001B[49m\n\u001B[1;32m   1286\u001B[0m \u001B[43m    \u001B[49m\u001B[43mpassword\u001B[49m\u001B[38;5;241;43m=\u001B[39;49m\u001B[38;5;28;43;01mFalse\u001B[39;49;00m\u001B[43m,\u001B[49m\n\u001B[1;32m   1287\u001B[0m \u001B[43m\u001B[49m\u001B[43m)\u001B[49m\n",
      "File \u001B[0;32m~/.cache/pypoetry/virtualenvs/ds-python-nZ1pRs7--py3.12/lib/python3.12/site-packages/ipykernel/kernelbase.py:1325\u001B[0m, in \u001B[0;36mKernel._input_request\u001B[0;34m(self, prompt, ident, parent, password)\u001B[0m\n\u001B[1;32m   1322\u001B[0m \u001B[38;5;28;01mexcept\u001B[39;00m \u001B[38;5;167;01mKeyboardInterrupt\u001B[39;00m:\n\u001B[1;32m   1323\u001B[0m     \u001B[38;5;66;03m# re-raise KeyboardInterrupt, to truncate traceback\u001B[39;00m\n\u001B[1;32m   1324\u001B[0m     msg \u001B[38;5;241m=\u001B[39m \u001B[38;5;124m\"\u001B[39m\u001B[38;5;124mInterrupted by user\u001B[39m\u001B[38;5;124m\"\u001B[39m\n\u001B[0;32m-> 1325\u001B[0m     \u001B[38;5;28;01mraise\u001B[39;00m \u001B[38;5;167;01mKeyboardInterrupt\u001B[39;00m(msg) \u001B[38;5;28;01mfrom\u001B[39;00m \u001B[38;5;28;01mNone\u001B[39;00m\n\u001B[1;32m   1326\u001B[0m \u001B[38;5;28;01mexcept\u001B[39;00m \u001B[38;5;167;01mException\u001B[39;00m:\n\u001B[1;32m   1327\u001B[0m     \u001B[38;5;28mself\u001B[39m\u001B[38;5;241m.\u001B[39mlog\u001B[38;5;241m.\u001B[39mwarning(\u001B[38;5;124m\"\u001B[39m\u001B[38;5;124mInvalid Message:\u001B[39m\u001B[38;5;124m\"\u001B[39m, exc_info\u001B[38;5;241m=\u001B[39m\u001B[38;5;28;01mTrue\u001B[39;00m)\n",
      "\u001B[0;31mKeyboardInterrupt\u001B[0m: Interrupted by user"
     ]
    }
   ],
   "source": [
    "months = [\"jan\", \"feb\", \"march\", \"april\", \"may\", \"june\"]\n",
    "months = [\"jan\", \"feb\"]\n",
    "\n",
    "month_outcome = {}\n",
    "\n",
    "\n",
    "for month in months:\n",
    "    try:\n",
    "        income = input(f\"Input income in {month}:\")\n",
    "        int(income)\n",
    "    except ValueError:\n",
    "        print(\"Input positive number!\")\n",
    "    expense = input(f\"Input expense in {month}:\")\n",
    "    outcome = \"profit\" if income > expense else \"loss\"\n",
    "    month_outcome[month] = outcome\n",
    "\n",
    "for month, outcome in month_outcome.items():\n",
    "    print(f\"month: {month}, outcome: {outcome}\")"
   ]
  },
  {
   "cell_type": "markdown",
   "id": "5e9e9e27-fbec-4958-9823-e21a420aa993",
   "metadata": {},
   "source": [
    "### 3. Liczby pierwsze"
   ]
  },
  {
   "cell_type": "code",
   "execution_count": 4,
   "id": "5b7c0c06-d348-44b8-acd8-55389d25bedf",
   "metadata": {},
   "outputs": [
    {
     "name": "stdout",
     "output_type": "stream",
     "text": [
      "[2, 3, 5, 7, 11, 13, 17, 19, 23, 29, 31, 37, 41, 43, 47, 53, 59, 61, 67, 71, 73, 79, 83, 89, 97]\n"
     ]
    }
   ],
   "source": [
    "def is_prime(n):\n",
    "    if n == 0 or n == 1:\n",
    "        return False\n",
    "    for num in range(2, n):\n",
    "        if n % num == 0:\n",
    "            return False\n",
    "    return True\n",
    "\n",
    "primes = []\n",
    "for n in range(0, 100):\n",
    "    if is_prime(n):\n",
    "        primes.append(n)\n",
    "\n",
    "print(primes)"
   ]
  },
  {
   "cell_type": "markdown",
   "id": "0f04e23f-9ea3-457b-b6ba-d17368eb249e",
   "metadata": {},
   "source": [
    "# 4. Rownanie kwadratowe"
   ]
  },
  {
   "cell_type": "markdown",
   "id": "e5004691-8b07-48e7-aaf1-f99d49726dd1",
   "metadata": {},
   "source": "### Wprowadz liczby:"
  },
  {
   "cell_type": "code",
   "id": "9baca9e3-1884-4e98-aed2-5dc998c510e0",
   "metadata": {
    "ExecuteTime": {
     "end_time": "2024-10-06T08:49:32.166498Z",
     "start_time": "2024-10-06T08:49:32.163342Z"
    }
   },
   "source": [
    "def input_number(msg:str):\n",
    "    try:\n",
    "        return int(input(msg))\n",
    "    except ValueError:\n",
    "        input_number(msg)"
   ],
   "outputs": [],
   "execution_count": 24
  },
  {
   "cell_type": "code",
   "id": "e005beab-8471-47fe-9d7f-9366daff7588",
   "metadata": {
    "ExecuteTime": {
     "end_time": "2024-10-06T08:51:09.589423Z",
     "start_time": "2024-10-06T08:51:05.919090Z"
    }
   },
   "source": [
    "a = input_number(\"Input A\")\n",
    "print(f\"{a=}\")"
   ],
   "outputs": [
    {
     "name": "stdout",
     "output_type": "stream",
     "text": [
      "a=3\n"
     ]
    }
   ],
   "execution_count": 34
  },
  {
   "cell_type": "code",
   "id": "fc7f2167-714f-41a8-a3b3-34302cb66abf",
   "metadata": {
    "ExecuteTime": {
     "end_time": "2024-10-06T09:02:01.839555Z",
     "start_time": "2024-10-06T09:02:00.034723Z"
    }
   },
   "source": [
    "b = input_number(\"Input B\")\n",
    "print(f\"{b=}\")"
   ],
   "outputs": [
    {
     "name": "stdout",
     "output_type": "stream",
     "text": [
      "b=9\n"
     ]
    }
   ],
   "execution_count": 41
  },
  {
   "cell_type": "code",
   "id": "d21fe5ca-8265-4201-b3b4-b4fc245b0c58",
   "metadata": {
    "ExecuteTime": {
     "end_time": "2024-10-06T09:02:17.220598Z",
     "start_time": "2024-10-06T09:02:07.406191Z"
    }
   },
   "source": [
    "c = input_number(\"Input C\")\n",
    "print(f\"{c=}\")"
   ],
   "outputs": [
    {
     "name": "stdout",
     "output_type": "stream",
     "text": [
      "c=0\n"
     ]
    }
   ],
   "execution_count": 43
  },
  {
   "metadata": {},
   "cell_type": "markdown",
   "source": "### Czy a jest rowne 0?",
   "id": "b4f73fe715db90e0"
  },
  {
   "metadata": {
    "ExecuteTime": {
     "end_time": "2024-10-06T09:04:00.367073Z",
     "start_time": "2024-10-06T09:04:00.362096Z"
    }
   },
   "cell_type": "code",
   "source": "a == 0",
   "id": "63861739b8aefcb2",
   "outputs": [
    {
     "data": {
      "text/plain": [
       "False"
      ]
     },
     "execution_count": 44,
     "metadata": {},
     "output_type": "execute_result"
    }
   ],
   "execution_count": 44
  },
  {
   "metadata": {},
   "cell_type": "markdown",
   "source": "### Jesli tak to jest to rownanie liniowe, jesli nie to wylicz deltę.",
   "id": "d697f3f0942bb965"
  },
  {
   "metadata": {
    "ExecuteTime": {
     "end_time": "2024-10-06T09:04:03.363105Z",
     "start_time": "2024-10-06T09:04:03.358259Z"
    }
   },
   "cell_type": "code",
   "source": [
    "delta = pow(b, 2)-4*a*c\n",
    "print(f\"Delta equals {delta}\")"
   ],
   "id": "ac467c0068e1d46d",
   "outputs": [
    {
     "name": "stdout",
     "output_type": "stream",
     "text": [
      "Delta equals 81\n"
     ]
    }
   ],
   "execution_count": 45
  },
  {
   "metadata": {},
   "cell_type": "markdown",
   "source": "### Jeśli delta:",
   "id": "f256ebdebb0882fd"
  },
  {
   "metadata": {},
   "cell_type": "markdown",
   "source": "### - jest mniejsza od zera oznacza to brak rozwiązań",
   "id": "70d7130a42f56320"
  },
  {
   "metadata": {},
   "cell_type": "markdown",
   "source": "### - jest rowna zero oznacza to jedno rozwiązanie równania kwadratowego:",
   "id": "a6d9f80d62f89697"
  },
  {
   "metadata": {
    "ExecuteTime": {
     "end_time": "2024-10-06T09:04:10.743737Z",
     "start_time": "2024-10-06T09:04:10.739084Z"
    }
   },
   "cell_type": "code",
   "source": [
    "x = -b/2*a\n",
    "print(f\"One quadratic equation result {x=}\")"
   ],
   "id": "b615a634c62d3f24",
   "outputs": [
    {
     "name": "stdout",
     "output_type": "stream",
     "text": [
      "One quadratic equation result x=-13.5\n"
     ]
    }
   ],
   "execution_count": 46
  },
  {
   "metadata": {},
   "cell_type": "markdown",
   "source": "### - jest większa od zera oznacza to dwa rozwiązania równania kwadratowego:",
   "id": "5e981bf9f055c6c"
  },
  {
   "metadata": {
    "ExecuteTime": {
     "end_time": "2024-10-06T09:04:13.189428Z",
     "start_time": "2024-10-06T09:04:13.184543Z"
    }
   },
   "cell_type": "code",
   "source": [
    "import math\n",
    "\n",
    "x1 = (-b + math.sqrt(delta)) / (2*a)\n",
    "x2 = (-b - math.sqrt(delta)) / (2*a)\n",
    "\n",
    "print(f\"Two quadratic equation results {x1=} {x2=}\")"
   ],
   "id": "d50eb3a965db8512",
   "outputs": [
    {
     "name": "stdout",
     "output_type": "stream",
     "text": [
      "Two quadratic equation results x1=0.0 x2=-3.0\n"
     ]
    }
   ],
   "execution_count": 47
  }
 ],
 "metadata": {
  "kernelspec": {
   "display_name": "Python 3 (ipykernel)",
   "language": "python",
   "name": "python3"
  },
  "language_info": {
   "codemirror_mode": {
    "name": "ipython",
    "version": 3
   },
   "file_extension": ".py",
   "mimetype": "text/x-python",
   "name": "python",
   "nbconvert_exporter": "python",
   "pygments_lexer": "ipython3",
   "version": "3.12.7"
  }
 },
 "nbformat": 4,
 "nbformat_minor": 5
}
