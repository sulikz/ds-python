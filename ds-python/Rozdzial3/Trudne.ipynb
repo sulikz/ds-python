{
 "cells": [
  {
   "cell_type": "markdown",
   "id": "aec87ef2-a1fc-453b-92fd-855ef38b9568",
   "metadata": {},
   "source": [
    "# Łukasz Suliborski\n",
    "# Zadania rozdział 3"
   ]
  },
  {
   "cell_type": "markdown",
   "id": "ce55ab196c3a5ff6",
   "metadata": {},
   "source": "## Zadania trudne"
  },
  {
   "cell_type": "markdown",
   "id": "015df422-66d9-4ac7-9887-a28187aeba17",
   "metadata": {},
   "source": [
    "### 1. Zgadnij liczbę"
   ]
  },
  {
   "cell_type": "code",
   "execution_count": 2,
   "id": "4fbf6e87-03ae-43a9-b82c-2a4e31599afc",
   "metadata": {
    "ExecuteTime": {
     "end_time": "2024-10-06T07:57:05.320337Z",
     "start_time": "2024-10-06T07:57:01.491738Z"
    },
    "scrolled": true
   },
   "outputs": [
    {
     "ename": "KeyboardInterrupt",
     "evalue": "Interrupted by user",
     "output_type": "error",
     "traceback": [
      "\u001B[0;31m---------------------------------------------------------------------------\u001B[0m",
      "\u001B[0;31mKeyboardInterrupt\u001B[0m                         Traceback (most recent call last)",
      "Cell \u001B[0;32mIn[2], line 8\u001B[0m\n\u001B[1;32m      6\u001B[0m \u001B[38;5;28;01mwhile\u001B[39;00m \u001B[38;5;28;01mTrue\u001B[39;00m:\n\u001B[1;32m      7\u001B[0m     \u001B[38;5;28;01mtry\u001B[39;00m:\n\u001B[0;32m----> 8\u001B[0m         user_guess \u001B[38;5;241m=\u001B[39m \u001B[38;5;28mint\u001B[39m(\u001B[38;5;28;43minput\u001B[39;49m\u001B[43m(\u001B[49m\u001B[38;5;124;43mf\u001B[39;49m\u001B[38;5;124;43m\"\u001B[39;49m\u001B[38;5;124;43mGuess the number between 1 and \u001B[39;49m\u001B[38;5;132;43;01m{\u001B[39;49;00m\u001B[43mn_max\u001B[49m\u001B[38;5;132;43;01m}\u001B[39;49;00m\u001B[38;5;124;43m:\u001B[39;49m\u001B[38;5;124;43m\"\u001B[39;49m\u001B[43m)\u001B[49m)\n\u001B[1;32m      9\u001B[0m     \u001B[38;5;28;01mexcept\u001B[39;00m \u001B[38;5;167;01mValueError\u001B[39;00m:\n\u001B[1;32m     10\u001B[0m         \u001B[38;5;28mprint\u001B[39m(\u001B[38;5;124m\"\u001B[39m\u001B[38;5;124mPlease enter a number\u001B[39m\u001B[38;5;124m\"\u001B[39m)\n",
      "File \u001B[0;32m~/.cache/pypoetry/virtualenvs/ds-python-nZ1pRs7--py3.12/lib/python3.12/site-packages/ipykernel/kernelbase.py:1282\u001B[0m, in \u001B[0;36mKernel.raw_input\u001B[0;34m(self, prompt)\u001B[0m\n\u001B[1;32m   1280\u001B[0m     msg \u001B[38;5;241m=\u001B[39m \u001B[38;5;124m\"\u001B[39m\u001B[38;5;124mraw_input was called, but this frontend does not support input requests.\u001B[39m\u001B[38;5;124m\"\u001B[39m\n\u001B[1;32m   1281\u001B[0m     \u001B[38;5;28;01mraise\u001B[39;00m StdinNotImplementedError(msg)\n\u001B[0;32m-> 1282\u001B[0m \u001B[38;5;28;01mreturn\u001B[39;00m \u001B[38;5;28;43mself\u001B[39;49m\u001B[38;5;241;43m.\u001B[39;49m\u001B[43m_input_request\u001B[49m\u001B[43m(\u001B[49m\n\u001B[1;32m   1283\u001B[0m \u001B[43m    \u001B[49m\u001B[38;5;28;43mstr\u001B[39;49m\u001B[43m(\u001B[49m\u001B[43mprompt\u001B[49m\u001B[43m)\u001B[49m\u001B[43m,\u001B[49m\n\u001B[1;32m   1284\u001B[0m \u001B[43m    \u001B[49m\u001B[38;5;28;43mself\u001B[39;49m\u001B[38;5;241;43m.\u001B[39;49m\u001B[43m_parent_ident\u001B[49m\u001B[43m[\u001B[49m\u001B[38;5;124;43m\"\u001B[39;49m\u001B[38;5;124;43mshell\u001B[39;49m\u001B[38;5;124;43m\"\u001B[39;49m\u001B[43m]\u001B[49m\u001B[43m,\u001B[49m\n\u001B[1;32m   1285\u001B[0m \u001B[43m    \u001B[49m\u001B[38;5;28;43mself\u001B[39;49m\u001B[38;5;241;43m.\u001B[39;49m\u001B[43mget_parent\u001B[49m\u001B[43m(\u001B[49m\u001B[38;5;124;43m\"\u001B[39;49m\u001B[38;5;124;43mshell\u001B[39;49m\u001B[38;5;124;43m\"\u001B[39;49m\u001B[43m)\u001B[49m\u001B[43m,\u001B[49m\n\u001B[1;32m   1286\u001B[0m \u001B[43m    \u001B[49m\u001B[43mpassword\u001B[49m\u001B[38;5;241;43m=\u001B[39;49m\u001B[38;5;28;43;01mFalse\u001B[39;49;00m\u001B[43m,\u001B[49m\n\u001B[1;32m   1287\u001B[0m \u001B[43m\u001B[49m\u001B[43m)\u001B[49m\n",
      "File \u001B[0;32m~/.cache/pypoetry/virtualenvs/ds-python-nZ1pRs7--py3.12/lib/python3.12/site-packages/ipykernel/kernelbase.py:1325\u001B[0m, in \u001B[0;36mKernel._input_request\u001B[0;34m(self, prompt, ident, parent, password)\u001B[0m\n\u001B[1;32m   1322\u001B[0m \u001B[38;5;28;01mexcept\u001B[39;00m \u001B[38;5;167;01mKeyboardInterrupt\u001B[39;00m:\n\u001B[1;32m   1323\u001B[0m     \u001B[38;5;66;03m# re-raise KeyboardInterrupt, to truncate traceback\u001B[39;00m\n\u001B[1;32m   1324\u001B[0m     msg \u001B[38;5;241m=\u001B[39m \u001B[38;5;124m\"\u001B[39m\u001B[38;5;124mInterrupted by user\u001B[39m\u001B[38;5;124m\"\u001B[39m\n\u001B[0;32m-> 1325\u001B[0m     \u001B[38;5;28;01mraise\u001B[39;00m \u001B[38;5;167;01mKeyboardInterrupt\u001B[39;00m(msg) \u001B[38;5;28;01mfrom\u001B[39;00m \u001B[38;5;28;01mNone\u001B[39;00m\n\u001B[1;32m   1326\u001B[0m \u001B[38;5;28;01mexcept\u001B[39;00m \u001B[38;5;167;01mException\u001B[39;00m:\n\u001B[1;32m   1327\u001B[0m     \u001B[38;5;28mself\u001B[39m\u001B[38;5;241m.\u001B[39mlog\u001B[38;5;241m.\u001B[39mwarning(\u001B[38;5;124m\"\u001B[39m\u001B[38;5;124mInvalid Message:\u001B[39m\u001B[38;5;124m\"\u001B[39m, exc_info\u001B[38;5;241m=\u001B[39m\u001B[38;5;28;01mTrue\u001B[39;00m)\n",
      "\u001B[0;31mKeyboardInterrupt\u001B[0m: Interrupted by user"
     ]
    }
   ],
   "source": [
    "import math\n",
    "import random\n",
    "from audioop import reverse\n",
    "\n",
    "n_max = 10\n",
    "number = random.randint(1, n_max)\n",
    "\n",
    "while True:\n",
    "    try:\n",
    "        user_guess = int(input(f\"Guess the number between 1 and {n_max}:\"))\n",
    "    except ValueError:\n",
    "        print(\"Please enter a number\")\n",
    "        continue\n",
    "    if user_guess == number:\n",
    "        print(\"Correct!\")\n",
    "        exit(0)\n",
    "    elif user_guess > number:\n",
    "        print(\"Too high!\")\n",
    "    else:\n",
    "        print(\"Too low!\")"
   ]
  },
  {
   "cell_type": "markdown",
   "id": "aa15e51b-7947-4d48-8aeb-16b090b9c402",
   "metadata": {},
   "source": [
    "### 2. Dochody / wydatki"
   ]
  },
  {
   "cell_type": "code",
   "execution_count": null,
   "id": "503d8ac9-453e-4e99-86af-11c132a78dc9",
   "metadata": {},
   "outputs": [],
   "source": [
    "months = [\"jan\", \"feb\", \"march\", \"april\", \"may\", \"june\"]\n",
    "months = [\"jan\", \"feb\"]\n",
    "\n",
    "month_outcome = {}\n",
    "\n",
    "\n",
    "for month in months:\n",
    "    try:\n",
    "        income = input(f\"Input income in {month}:\")\n",
    "        int(income)\n",
    "    except ValueError:\n",
    "        print(\"Input positive number!\")\n",
    "    expense = input(f\"Input expense in {month}:\")\n",
    "    outcome = \"profit\" if income > expense else \"loss\"\n",
    "    month_outcome[month] = outcome\n",
    "\n",
    "for month, outcome in month_outcome.items():\n",
    "    print(f\"month: {month}, outcome: {outcome}\")"
   ]
  },
  {
   "cell_type": "markdown",
   "id": "5e9e9e27-fbec-4958-9823-e21a420aa993",
   "metadata": {},
   "source": [
    "### 3. Liczby pierwsze"
   ]
  },
  {
   "cell_type": "code",
   "execution_count": null,
   "id": "5b7c0c06-d348-44b8-acd8-55389d25bedf",
   "metadata": {},
   "outputs": [],
   "source": [
    "def is_prime(n):\n",
    "    if n == 0 or n == 1:\n",
    "        return False\n",
    "    for num in range(2, n):\n",
    "        if n % num == 0:\n",
    "            return False\n",
    "    return True\n",
    "\n",
    "primes = []\n",
    "for n in range(0, 100):\n",
    "    if is_prime(n):\n",
    "        primes.append(n)\n",
    "\n",
    "print(primes)"
   ]
  },
  {
   "cell_type": "markdown",
   "id": "0f04e23f-9ea3-457b-b6ba-d17368eb249e",
   "metadata": {},
   "source": [
    "# 4. Rownanie kwadratowe"
   ]
  },
  {
   "cell_type": "markdown",
   "id": "e5004691-8b07-48e7-aaf1-f99d49726dd1",
   "metadata": {},
   "source": [
    "#### Wprowadz liczby:"
   ]
  },
  {
   "cell_type": "code",
   "execution_count": null,
   "id": "9baca9e3-1884-4e98-aed2-5dc998c510e0",
   "metadata": {
    "ExecuteTime": {
     "end_time": "2024-10-06T08:49:32.166498Z",
     "start_time": "2024-10-06T08:49:32.163342Z"
    }
   },
   "outputs": [],
   "source": [
    "def input_number(msg:str):\n",
    "    try:\n",
    "        return int(input(msg))\n",
    "    except ValueError:\n",
    "        input_number(msg)"
   ]
  },
  {
   "cell_type": "code",
   "execution_count": null,
   "id": "e005beab-8471-47fe-9d7f-9366daff7588",
   "metadata": {
    "ExecuteTime": {
     "end_time": "2024-10-06T08:51:09.589423Z",
     "start_time": "2024-10-06T08:51:05.919090Z"
    }
   },
   "outputs": [],
   "source": [
    "a = input_number(\"Input A\")\n",
    "print(f\"{a=}\")"
   ]
  },
  {
   "cell_type": "code",
   "execution_count": null,
   "id": "fc7f2167-714f-41a8-a3b3-34302cb66abf",
   "metadata": {
    "ExecuteTime": {
     "end_time": "2024-10-06T09:02:01.839555Z",
     "start_time": "2024-10-06T09:02:00.034723Z"
    }
   },
   "outputs": [],
   "source": [
    "b = input_number(\"Input B\")\n",
    "print(f\"{b=}\")"
   ]
  },
  {
   "cell_type": "code",
   "execution_count": null,
   "id": "d21fe5ca-8265-4201-b3b4-b4fc245b0c58",
   "metadata": {
    "ExecuteTime": {
     "end_time": "2024-10-06T09:02:17.220598Z",
     "start_time": "2024-10-06T09:02:07.406191Z"
    }
   },
   "outputs": [],
   "source": [
    "c = input_number(\"Input C\")\n",
    "print(f\"{c=}\")"
   ]
  },
  {
   "cell_type": "markdown",
   "id": "b4f73fe715db90e0",
   "metadata": {},
   "source": [
    "#### Czy a jest rowne 0?"
   ]
  },
  {
   "cell_type": "code",
   "execution_count": null,
   "id": "63861739b8aefcb2",
   "metadata": {
    "ExecuteTime": {
     "end_time": "2024-10-06T09:04:00.367073Z",
     "start_time": "2024-10-06T09:04:00.362096Z"
    }
   },
   "outputs": [],
   "source": [
    "a == 0"
   ]
  },
  {
   "cell_type": "markdown",
   "id": "d697f3f0942bb965",
   "metadata": {},
   "source": "#### Jesli tak, to jest to rownanie liniowe - jesli nie, to wylicz deltę."
  },
  {
   "cell_type": "code",
   "execution_count": null,
   "id": "ac467c0068e1d46d",
   "metadata": {
    "ExecuteTime": {
     "end_time": "2024-10-06T09:04:03.363105Z",
     "start_time": "2024-10-06T09:04:03.358259Z"
    }
   },
   "outputs": [],
   "source": [
    "delta = pow(b, 2)-4*a*c\n",
    "print(f\"Delta equals {delta}\")"
   ]
  },
  {
   "cell_type": "markdown",
   "id": "f256ebdebb0882fd",
   "metadata": {},
   "source": [
    "#### Jeśli delta:"
   ]
  },
  {
   "cell_type": "markdown",
   "id": "70d7130a42f56320",
   "metadata": {},
   "source": [
    "#### - jest mniejsza od zera oznacza to brak rozwiązań"
   ]
  },
  {
   "cell_type": "markdown",
   "id": "a6d9f80d62f89697",
   "metadata": {},
   "source": [
    "#### - jest rowna zero oznacza to jedno rozwiązanie równania kwadratowego:"
   ]
  },
  {
   "cell_type": "code",
   "execution_count": null,
   "id": "b615a634c62d3f24",
   "metadata": {
    "ExecuteTime": {
     "end_time": "2024-10-06T09:04:10.743737Z",
     "start_time": "2024-10-06T09:04:10.739084Z"
    }
   },
   "outputs": [],
   "source": [
    "x = -b/2*a\n",
    "print(f\"One quadratic equation result {x=}\")"
   ]
  },
  {
   "cell_type": "markdown",
   "id": "5e981bf9f055c6c",
   "metadata": {},
   "source": [
    "#### - jest większa od zera oznacza to dwa rozwiązania równania kwadratowego:"
   ]
  },
  {
   "cell_type": "code",
   "execution_count": null,
   "id": "d50eb3a965db8512",
   "metadata": {
    "ExecuteTime": {
     "end_time": "2024-10-06T09:04:13.189428Z",
     "start_time": "2024-10-06T09:04:13.184543Z"
    }
   },
   "outputs": [],
   "source": [
    "import math\n",
    "\n",
    "x1 = (-b + math.sqrt(delta)) / (2*a)\n",
    "x2 = (-b - math.sqrt(delta)) / (2*a)\n",
    "\n",
    "print(f\"Two quadratic equation results {x1=} {x2=}\")"
   ]
  },
  {
   "cell_type": "markdown",
   "id": "daabf54543c7dd72",
   "metadata": {},
   "source": [
    "# Rozdzial 4"
   ]
  },
  {
   "cell_type": "markdown",
   "id": "b8cccd876cce9e07",
   "metadata": {},
   "source": [
    "## Poziom sredni (tylko numpy)"
   ]
  },
  {
   "cell_type": "markdown",
   "id": "c69e046d55797ca8",
   "metadata": {},
   "source": [
    "### 6. Suma liczb parzystych"
   ]
  },
  {
   "cell_type": "code",
   "execution_count": 1,
   "id": "e501f02ab9bbe1d6",
   "metadata": {
    "ExecuteTime": {
     "end_time": "2024-10-06T10:33:19.348898Z",
     "start_time": "2024-10-06T10:33:19.344075Z"
    }
   },
   "outputs": [
    {
     "name": "stdout",
     "output_type": "stream",
     "text": [
      "Even only array [ 2  4  6  8 10 12 14 16 18]\n",
      "Even numbers sum: 90\n"
     ]
    }
   ],
   "source": [
    "import numpy as np\n",
    "\n",
    "arr = np.array(range(1,20))\n",
    "even_only = arr[arr % 2 == 0]\n",
    "print(f\"Even only array {even_only}\")\n",
    "print(f\"Even numbers sum: {np.sum(even_only)}\")"
   ]
  },
  {
   "cell_type": "markdown",
   "id": "b462e26f168c624b",
   "metadata": {},
   "source": [
    "### 7. Tablica 3x3: pierwszy <=> ostatni element"
   ]
  },
  {
   "cell_type": "code",
   "execution_count": null,
   "id": "5a15ff0e66964cf5",
   "metadata": {
    "ExecuteTime": {
     "end_time": "2024-10-06T10:46:56.301898Z",
     "start_time": "2024-10-06T10:46:56.297321Z"
    }
   },
   "outputs": [],
   "source": [
    "arr = np.ones((3,3), dtype=int)\n",
    "arr[0,0]=-1\n",
    "print(f\"Before swap:\\n{arr}\")\n",
    "arr[0, 0], arr[-1, -1] = arr[-1, -1], arr[0, 0]\n",
    "print(f\"After swap:\\n{arr}\")"
   ]
  },
  {
   "cell_type": "markdown",
   "id": "1eeadc143589fdd1",
   "metadata": {},
   "source": [
    "### 8. Tablica 4x4: maksymalna wartosc z rozkladu "
   ]
  },
  {
   "cell_type": "code",
   "execution_count": null,
   "id": "35382d8faaf0e3b8",
   "metadata": {
    "ExecuteTime": {
     "end_time": "2024-10-06T12:42:01.421688Z",
     "start_time": "2024-10-06T12:42:01.416466Z"
    }
   },
   "outputs": [],
   "source": [
    "arr = np.random.normal(0, 2, (4,4))\n",
    "print(arr)\n",
    "print(\"Max values for each row:\")\n",
    "print(np.max(arr, axis=1))"
   ]
  },
  {
   "cell_type": "markdown",
   "id": "8a78d36ea023b4dd",
   "metadata": {},
   "source": [
    "### Poziom trudny"
   ]
  },
  {
   "cell_type": "markdown",
   "id": "5af6d8da55167a8",
   "metadata": {},
   "source": [
    "1."
   ]
  },
  {
   "cell_type": "code",
   "execution_count": null,
   "id": "bb3581a2d3a1527e",
   "metadata": {
    "ExecuteTime": {
     "end_time": "2024-10-06T11:15:05.281598Z",
     "start_time": "2024-10-06T11:15:05.277022Z"
    }
   },
   "outputs": [],
   "source": [
    "exam = [\"Ania, 85\", \"Jan, 90\", \"Maria, 78\"]\n",
    "def get_result(val: str):\n",
    "    return val.split(\",\")[1].strip()\n",
    "exam.sort(key=get_result)\n",
    "print(exam)"
   ]
  },
  {
   "cell_type": "markdown",
   "id": "1941e732d9e16f2b",
   "metadata": {},
   "source": [
    "2. "
   ]
  },
  {
   "cell_type": "code",
   "execution_count": null,
   "id": "3fc2044bef3d3f3",
   "metadata": {
    "ExecuteTime": {
     "end_time": "2024-10-06T11:25:10.296736Z",
     "start_time": "2024-10-06T11:25:10.292766Z"
    }
   },
   "outputs": [],
   "source": [
    "cities = [(\"Warszawa\", 10), (\"Krakow\", 5), (\"Wroclaw\", 3), (\"Lodz\", 1)]\n",
    "print(max(cities, key=lambda x: x[1]))"
   ]
  },
  {
   "cell_type": "markdown",
   "id": "bae109e4a2a8ad1f",
   "metadata": {},
   "source": [
    "3. "
   ]
  },
  {
   "cell_type": "code",
   "execution_count": null,
   "id": "de0486df851400a0",
   "metadata": {
    "ExecuteTime": {
     "end_time": "2024-10-06T11:32:17.088038Z",
     "start_time": "2024-10-06T11:32:17.083998Z"
    }
   },
   "outputs": [],
   "source": [
    "print(np.random.randint(0, 7, size=20) * 15)"
   ]
  },
  {
   "cell_type": "markdown",
   "id": "a0fe90465e323c02",
   "metadata": {},
   "source": [
    "4."
   ]
  },
  {
   "cell_type": "code",
   "execution_count": null,
   "id": "bbfee0a17246311b",
   "metadata": {
    "ExecuteTime": {
     "end_time": "2024-10-06T12:10:42.194642Z",
     "start_time": "2024-10-06T12:10:42.190916Z"
    }
   },
   "outputs": [],
   "source": [
    "sentence = \"This is a sentence\"\n",
    "sentence2 = \"This is another sentence with unique words.\"\n",
    "unique_words = set(sentence.split()) - set(sentence2.split())\n",
    "print(unique_words)"
   ]
  },
  {
   "cell_type": "markdown",
   "id": "ea4e410c4aa53055",
   "metadata": {},
   "source": [
    "5. "
   ]
  },
  {
   "cell_type": "code",
   "execution_count": null,
   "id": "d3634f1370914127",
   "metadata": {
    "ExecuteTime": {
     "end_time": "2024-10-06T12:04:06.517191Z",
     "start_time": "2024-10-06T12:04:06.512855Z"
    }
   },
   "outputs": [],
   "source": [
    "classes = {\"math\": 10, \"physics\": 8, \"chemistry\": 5}\n",
    "print(min(classes, key=lambda x: classes[x]))"
   ]
  },
  {
   "cell_type": "markdown",
   "id": "acfdaa8e30be374f",
   "metadata": {},
   "source": [
    "6. "
   ]
  },
  {
   "cell_type": "code",
   "execution_count": null,
   "id": "123ddd8090c2a978",
   "metadata": {
    "ExecuteTime": {
     "end_time": "2024-10-06T12:22:54.839538Z",
     "start_time": "2024-10-06T12:22:54.835227Z"
    }
   },
   "outputs": [],
   "source": [
    "arr = np.array(np.random.randint(1, 100, 1000))\n",
    "print(f\"Average {np.average(arr):.2f}\")\n",
    "print(f\"Standard deviation {np.std(arr):.2f}\")"
   ]
  },
  {
   "cell_type": "markdown",
   "id": "c685eb0142fea425",
   "metadata": {},
   "source": [
    "7."
   ]
  },
  {
   "cell_type": "code",
   "execution_count": null,
   "id": "a64c16ffe728b8af",
   "metadata": {
    "ExecuteTime": {
     "end_time": "2024-10-06T12:55:38.152541Z",
     "start_time": "2024-10-06T12:55:38.148088Z"
    }
   },
   "outputs": [],
   "source": [
    "lin_space =  np.linspace(start=-100, stop=100, num=9).reshape(3,3)\n",
    "arr"
   ]
  },
  {
   "cell_type": "markdown",
   "id": "f5b10fac21aec5a5",
   "metadata": {},
   "source": "8."
  },
  {
   "cell_type": "code",
   "id": "725d3613b08e2843",
   "metadata": {
    "ExecuteTime": {
     "end_time": "2024-10-06T12:59:23.250136Z",
     "start_time": "2024-10-06T12:59:23.245466Z"
    }
   },
   "source": [
    "arr = np.random.randint(100,size=25).reshape(5,5)\n",
    "arr/100"
   ],
   "outputs": [
    {
     "data": {
      "text/plain": [
       "array([[0.34, 0.1 , 0.71, 0.58, 0.73],\n",
       "       [0.99, 0.02, 0.06, 0.05, 0.83],\n",
       "       [0.63, 0.28, 0.48, 0.75, 0.99],\n",
       "       [0.21, 0.75, 0.42, 0.69, 0.35],\n",
       "       [0.84, 0.36, 0.83, 0.44, 0.97]])"
      ]
     },
     "execution_count": 149,
     "metadata": {},
     "output_type": "execute_result"
    }
   ],
   "execution_count": 149
  },
  {
   "metadata": {},
   "cell_type": "markdown",
   "source": "# Rozdzial 5",
   "id": "fbec00a2428d49eb"
  },
  {
   "metadata": {},
   "cell_type": "markdown",
   "source": "### Poziom trudny",
   "id": "463a415c040de701"
  },
  {
   "metadata": {},
   "cell_type": "markdown",
   "source": "1.",
   "id": "a2536b28874ff3d9"
  },
  {
   "metadata": {
    "ExecuteTime": {
     "end_time": "2024-10-06T13:08:56.417310Z",
     "start_time": "2024-10-06T13:08:56.413002Z"
    }
   },
   "cell_type": "code",
   "source": [
    "def reverse_words(sentence: str):\n",
    "    reversed = []\n",
    "    for word in sentence.split():\n",
    "        reversed.append(word[::-1])\n",
    "    return \" \".join(reversed)\n",
    "\n",
    "print(reverse_words(\"These should be reversed.\"))"
   ],
   "id": "fe0ae6a01c2cadec",
   "outputs": [
    {
     "name": "stdout",
     "output_type": "stream",
     "text": [
      "esehT dluohs eb .desrever\n"
     ]
    }
   ],
   "execution_count": 165
  },
  {
   "metadata": {},
   "cell_type": "code",
   "outputs": [],
   "execution_count": null,
   "source": "",
   "id": "e48ec60dd7c9886f"
  }
 ],
 "metadata": {
  "kernelspec": {
   "display_name": "Python 3 (ipykernel)",
   "language": "python",
   "name": "python3"
  },
  "language_info": {
   "codemirror_mode": {
    "name": "ipython",
    "version": 3
   },
   "file_extension": ".py",
   "mimetype": "text/x-python",
   "name": "python",
   "nbconvert_exporter": "python",
   "pygments_lexer": "ipython3",
   "version": "3.12.7"
  }
 },
 "nbformat": 4,
 "nbformat_minor": 5
}
